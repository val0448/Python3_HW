{
 "cells": [
  {
   "attachments": {},
   "cell_type": "markdown",
   "metadata": {},
   "source": [
    "# Cvičení 1\n",
    "\n",
    "Začnemě opakováním základů programovacího jazyka Python, tzn. tvorbou a prací s proměnnými, cykly (`for`) a podmínkami (`if, else, elif`). Následně se zaměříme na knihovnu Numpy, která slouží k práci vektory a maticemi."
   ]
  },
  {
   "attachments": {},
   "cell_type": "markdown",
   "metadata": {},
   "source": [
    "## Práce s buňkami v notebooku\n",
    "\n",
    "Připomeňme, že buňku (cell) s kódem v Jupyter Notebooku můžeme spustit těmito příkazy:\n",
    "- `Ctrl + Enter` - spustí daný řádek kódu\n",
    "- `Shift + Enter` - spustí daný řádek kódu a přejde na další řádek\n",
    "- `Alt + Enter` - spustí daný řádek kódu a vytvoří nový řádek pod ním\n",
    "\n",
    "Další možnost je využít tlačítko `Execute cell` vlevo nahoře od buňky."
   ]
  },
  {
   "attachments": {},
   "cell_type": "markdown",
   "metadata": {},
   "source": [
    "## Základní aritmetické operace\n",
    "\n",
    "Notebook (resp. Python interpret samotný) můžeme využít jako kalkulátor k základním výpočtům. Výsledky nemusíme ukládat do proměnných. Zkuste spustit následující buňky."
   ]
  },
  {
   "cell_type": "code",
   "execution_count": null,
   "metadata": {},
   "outputs": [],
   "source": [
    "1+1"
   ]
  },
  {
   "cell_type": "code",
   "execution_count": 3,
   "metadata": {},
   "outputs": [
    {
     "data": {
      "text/plain": [
       "50"
      ]
     },
     "execution_count": 3,
     "metadata": {},
     "output_type": "execute_result"
    }
   ],
   "source": [
    "10*(2+3)"
   ]
  },
  {
   "cell_type": "code",
   "execution_count": 2,
   "metadata": {},
   "outputs": [
    {
     "ename": "NameError",
     "evalue": "name 'sin' is not defined",
     "output_type": "error",
     "traceback": [
      "\u001b[0;31m---------------------------------------------------------------------------\u001b[0m",
      "\u001b[0;31mNameError\u001b[0m                                 Traceback (most recent call last)",
      "Cell \u001b[0;32mIn[2], line 1\u001b[0m\n\u001b[0;32m----> 1\u001b[0m \u001b[39m3\u001b[39m\u001b[39m*\u001b[39msin(\u001b[39m3\u001b[39m)\n",
      "\u001b[0;31mNameError\u001b[0m: name 'sin' is not defined"
     ]
    }
   ],
   "source": [
    "3*sin(3)"
   ]
  },
  {
   "attachments": {},
   "cell_type": "markdown",
   "metadata": {},
   "source": [
    "Předchozí buňku nebylo možné spustit. Abychom mohli využívat pokročilejší matematické operace, musíme importovat příslušnou knihovnu (v tomto případě math nebo numpy). Projděte si a spusťte následující buňky."
   ]
  },
  {
   "cell_type": "code",
   "execution_count": 1,
   "metadata": {},
   "outputs": [
    {
     "data": {
      "text/plain": [
       "0.4233600241796016"
      ]
     },
     "execution_count": 1,
     "metadata": {},
     "output_type": "execute_result"
    }
   ],
   "source": [
    "import math\n",
    "3*math.sin(3)           # Musíme volat s návzem knihovny \"math.\""
   ]
  },
  {
   "cell_type": "code",
   "execution_count": null,
   "metadata": {},
   "outputs": [],
   "source": [
    "from math import sin\n",
    "3*sin(math.pi)          # sin můžeme volat i bez návzu knihovny, před konstantu pi musíme stále  napsat \"math.\""
   ]
  },
  {
   "attachments": {},
   "cell_type": "markdown",
   "metadata": {},
   "source": [
    "**Pozor**: Následující přístup sice funguje a načte vše z knihovny `math`, ale je považován za **špatný zvyk**. Nevíte, co vše se z knihovny načetlo, názvy importovaných proměnných a funkcí mohou **kolidovat** s vašimi názvy nebo s funkcemi načtenými z jiných knihoven.\n",
    "\n",
    "**Nevyužívejte**, pokud to není nezbytně nutné. "
   ]
  },
  {
   "cell_type": "code",
   "execution_count": null,
   "metadata": {},
   "outputs": [],
   "source": [
    "from math import *\n",
    "3*acos(sin(pi))         # Načte se vše z knihovny math, vše lze volat bez počátečního \"math.\""
   ]
  },
  {
   "attachments": {},
   "cell_type": "markdown",
   "metadata": {},
   "source": [
    "## Proměnné \n",
    "\n",
    "Proměnné definujeme pomocí znaku `=`. Typ proměnné není nutné specifikovat (Python je dynamicky typovaný jazyk, typ proměnné určí interpret jazyka automaticky)."
   ]
  },
  {
   "cell_type": "code",
   "execution_count": null,
   "metadata": {},
   "outputs": [],
   "source": [
    "a = 5\n",
    "b = math.pi\n",
    "c = \"Hello world\"\n",
    "\n",
    "print(a)\n",
    "print(b)\n",
    "print(c)"
   ]
  },
  {
   "attachments": {},
   "cell_type": "markdown",
   "metadata": {},
   "source": [
    "Jakého typu je daná proměnná můžeme zjistit pomocí příkazu `type`."
   ]
  },
  {
   "cell_type": "code",
   "execution_count": null,
   "metadata": {},
   "outputs": [],
   "source": [
    "print(type(a))\n",
    "print(type(b))\n",
    "print(type(c))"
   ]
  },
  {
   "attachments": {},
   "cell_type": "markdown",
   "metadata": {},
   "source": [
    "## `for` cyklus\n",
    "\n",
    "Pro cyklus s předem daným počtem iterací využíváme příkaz `for`. Základní použití je v kombinaci s příkazem `range`, pomocí kterého vytvoříme tzv. iterovatelný objekt:\n",
    "\n",
    "- `range(n)` - vytvoří iterovatelný objekt, který obsahuje čísla od 0 do n-1\n",
    "- `range(m, n)` - vytvoří iterovatelný objekt, který obsahuje čísla od m do n-1\n",
    "- `range(m, n, k)` - vytvoří iterovatelný objekt, který obsahuje čísla od m do n-1 s krokem k\n",
    "\n",
    "Následující kód iteruje od 0 do 5 a vypíše současnou hodnotu `i`."
   ]
  },
  {
   "cell_type": "code",
   "execution_count": null,
   "metadata": {},
   "outputs": [],
   "source": [
    "for i in range(2,11):\n",
    "    print(i)"
   ]
  },
  {
   "cell_type": "code",
   "execution_count": null,
   "metadata": {},
   "outputs": [],
   "source": [
    "# UKOL: Doplňte kód, který vypíše sudá čísla od 2 do 10 (včetně):\n",
    "\n"
   ]
  },
  {
   "attachments": {},
   "cell_type": "markdown",
   "metadata": {},
   "source": [
    "## Podmínky\n",
    "\n",
    "K vytváření podmíněných bloků kódu slouží příkazy `if`, `else`, `elif`.\n",
    "\n",
    "K porovnávání mezi hodnotami používáme operátory `==`, `>=`, `<=`, `>`, `<`, `!=`"
   ]
  },
  {
   "cell_type": "code",
   "execution_count": 6,
   "metadata": {},
   "outputs": [
    {
     "name": "stdout",
     "output_type": "stream",
     "text": [
      "acos(x) = 1.0471975511965979\n"
     ]
    }
   ],
   "source": [
    "x = 0.5\n",
    "\n",
    "if (abs(x) <= 1):\n",
    "    y = math.acos(x)\n",
    "    print(\"acos(x) = {}\".format(y))\n",
    "else:\n",
    "    print(\"Hodnota proměnné je mimo definiční obor funkce.\")"
   ]
  },
  {
   "cell_type": "code",
   "execution_count": 7,
   "metadata": {},
   "outputs": [
    {
     "name": "stdout",
     "output_type": "stream",
     "text": [
      "1\n",
      "Liche\n",
      "2\n",
      "Sude\n",
      "3\n",
      "Liche\n",
      "4\n",
      "Sude\n",
      "5\n",
      "Liche\n",
      "6\n",
      "Sude\n",
      "7\n",
      "Liche\n",
      "8\n",
      "Sude\n",
      "9\n",
      "Liche\n",
      "10\n",
      "Sude\n",
      "11\n",
      "Liche\n",
      "12\n",
      "Sude\n",
      "13\n",
      "Liche\n",
      "14\n",
      "Sude\n",
      "15\n",
      "Liche\n",
      "16\n",
      "Sude\n",
      "17\n",
      "Liche\n",
      "18\n",
      "Sude\n",
      "19\n",
      "Liche\n",
      "20\n",
      "Sude\n"
     ]
    }
   ],
   "source": [
    "\"\"\" \n",
    "UKOL: Doplňte následující kód tak, aby \n",
    "1) smyčka iterovala od 1 do 20 včetně\n",
    "2) vypsal aktuální i\n",
    "3) pokud je aktuální i sudé, vypsal na dalším řádku \"Sudé číslo\"\n",
    "4) pokud je aktuální i liché, vypsal na dalším řádku \"Liché číslo\"\n",
    "\n",
    "K určení toho, zda je číslo sudé, potřebujete modulo operátor % - zbytek po \n",
    "celočíselném deleni. (zbytek = delenec % delitel) \n",
    "\n",
    "\"\"\"\n",
    "\n",
    "for i in range(1,21):\n",
    "    print(i)\n",
    "    if((i % 2) == 0):\n",
    "        print(\"Sude\")\n",
    "    else:\n",
    "        print(\"Liche\")"
   ]
  },
  {
   "attachments": {},
   "cell_type": "markdown",
   "metadata": {},
   "source": [
    "## Knihovna NumPy\n",
    "\n",
    "V tomto kurzu budeme pracovat hlavně s knihovnou `NumPy`, základní knihovnou pro vědecké výpočty v Pythonu. Umožňuje nám manipulaci s vektory a maticemi, implementuje operace mezi nimi či maticové rozklady."
   ]
  },
  {
   "cell_type": "code",
   "execution_count": 2,
   "metadata": {},
   "outputs": [],
   "source": [
    "import numpy as np      #  np je běžně využívaná zkratka pro numpy"
   ]
  },
  {
   "attachments": {},
   "cell_type": "markdown",
   "metadata": {},
   "source": [
    "Matice a vektory můžeme vytvořit např. pomocí:\n",
    "\n",
    "- `np.array()` - vytvoří vektor/matici z listu\n",
    "- `np.zeros()` - vytvoří vektor/matici o daných rozměrech, která je naplněna nulami\n",
    "- `np.ones()` - vytvoří vektor/matici o daných rozměrech, která je naplněna jedničkami\n",
    "- `np.linspace()` - vytvoří vektor o daných rozměrech, který obsahuje čísla od m do n-1 s krokem k\n",
    "- `np.eye()` - vytvoří jednotkovou matici o daných rozměrech\n",
    "- `np.random.rand()` - vytvoří vektor/matici o daných rozměrech, která je naplněna náhodnými čísly z intervalu [0, 1)\n",
    "\n",
    "(Vzpomeňte si, že dokumentaci k jednotlivým funkcím s detailnějším popisem můžete zavolat pomocí příkazu `help`, např. `help(np.linspace)`)\n",
    "\n",
    "Příklady použití:"
   ]
  },
  {
   "cell_type": "code",
   "execution_count": 10,
   "metadata": {},
   "outputs": [
    {
     "name": "stdout",
     "output_type": "stream",
     "text": [
      "[1 2 3 4]\n"
     ]
    }
   ],
   "source": [
    "import numpy as np\n",
    "b = np.array([1, 2, 3, 4])\n",
    "print(b)"
   ]
  },
  {
   "cell_type": "code",
   "execution_count": 11,
   "metadata": {},
   "outputs": [
    {
     "name": "stdout",
     "output_type": "stream",
     "text": [
      "[[1 2 3]\n",
      " [4 5 6]]\n"
     ]
    }
   ],
   "source": [
    "A = np.array([[1, 2, 3], [4, 5, 6]])\n",
    "print(A) "
   ]
  },
  {
   "cell_type": "code",
   "execution_count": null,
   "metadata": {},
   "outputs": [],
   "source": [
    "e = np.ones(4)\n",
    "print(e)"
   ]
  },
  {
   "cell_type": "code",
   "execution_count": 12,
   "metadata": {},
   "outputs": [
    {
     "name": "stdout",
     "output_type": "stream",
     "text": [
      "[[1. 0. 0. 0. 0.]\n",
      " [0. 1. 0. 0. 0.]\n",
      " [0. 0. 1. 0. 0.]\n",
      " [0. 0. 0. 1. 0.]\n",
      " [0. 0. 0. 0. 1.]]\n"
     ]
    }
   ],
   "source": [
    "I = np.eye(5)\n",
    "print(I)"
   ]
  },
  {
   "cell_type": "code",
   "execution_count": 23,
   "metadata": {},
   "outputs": [
    {
     "name": "stdout",
     "output_type": "stream",
     "text": [
      "[[0. 0. 0.]\n",
      " [0. 0. 0.]\n",
      " [0. 0. 0.]\n",
      " [0. 0. 0.]]\n",
      "[0.52029831 0.27329469 0.49998074 0.09761641]\n",
      "[0.         0.55555556 1.11111111 1.66666667 2.22222222 2.77777778\n",
      " 3.33333333 3.88888889 4.44444444 5.        ]\n"
     ]
    }
   ],
   "source": [
    "\"\"\"\n",
    "ÚKOL: \n",
    "1) Vytvořte matici A samých nul, která má 4 řádky a 3 sloupce.\n",
    "2) Vytvořte náhodný vektor b o čtyřech prvcích.\n",
    "3) Vytvořte vektor v obsahující 10 čísel rovnoměrně rozmístěných mezi 0 a 5 včetně.\n",
    "\"\"\"\n",
    "\n",
    "import numpy as np\n",
    "\n",
    "A = np.zeros((4, 3))\n",
    "print(A)\n",
    "b = np.random.rand(4)\n",
    "print(b)\n",
    "v = np.linspace(0, 5, 10)\n",
    "print(v)"
   ]
  },
  {
   "attachments": {},
   "cell_type": "markdown",
   "metadata": {},
   "source": [
    "Chceme-li přistupovat k prvkům matice či vektoru v NumPy, využíváme hranaté závorky `[]` a indexujeme od nuly. "
   ]
  },
  {
   "cell_type": "code",
   "execution_count": 34,
   "metadata": {},
   "outputs": [
    {
     "name": "stdout",
     "output_type": "stream",
     "text": [
      "[0 1 2 3 4]\n",
      "1\n",
      "[0 1 2]\n",
      "[0 2 4]\n",
      "[1 3]\n",
      "4\n"
     ]
    }
   ],
   "source": [
    "b = np.array([0, 1, 2, 3, 4])\n",
    "print(b)\n",
    "\n",
    "x = b[1]        # druhý prvek vektoru b\n",
    "print(x)\n",
    "\n",
    "x = b[0:3]      # prvky na pozicích 0 až 2\n",
    "print(x)\n",
    "\n",
    "x = b[0:5:2]    # každý druhý prvek vektoru, (zopakujme syntaxi: x = b[start:end+1:krok])\n",
    "print(x)\n",
    "\n",
    "x = b[[1, 3]]   # prvky na pozicích 1, 3\n",
    "print(x)\n",
    "\n",
    "x = b[-1]       # můžeme indexovat odzadu, indexem -1 získáme poslední prvek, -2 předposlední, atd.\n",
    "print(x)"
   ]
  },
  {
   "cell_type": "code",
   "execution_count": null,
   "metadata": {},
   "outputs": [],
   "source": [
    "A = np.array([[1, 2, 3, 4], [5, 6, 7, 8]])\n",
    "print(A)\n",
    "\n",
    "a = A[0, 0]         # prvek na pozici (0, 0)\n",
    "print(a)\n",
    "\n",
    "a = A[1, 3]         # prvek na pozici (1, 3)\n",
    "print(a)\n",
    "\n",
    "B = A[0, 1:3]       # prvky na prvním řádku v druhém až třetím sloupci (v řeči indexů - na 0. řádku a 1. až 3. sloupci bez 3. sloupce)\n",
    "print(B)"
   ]
  },
  {
   "cell_type": "code",
   "execution_count": 36,
   "metadata": {},
   "outputs": [
    {
     "name": "stdout",
     "output_type": "stream",
     "text": [
      "[[0.8919501  0.0071254  0.29892122 0.33484246 0.50027446]\n",
      " [0.13371433 0.76354881 0.1433816  0.95617005 0.82559421]\n",
      " [0.61817329 0.61162661 0.69140988 0.90430277 0.70242382]\n",
      " [0.3869835  0.42514086 0.02582873 0.21304319 0.08892213]\n",
      " [0.01727113 0.1913814  0.90190576 0.47721735 0.21627095]]\n",
      "[0.01727113 0.1913814  0.90190576 0.47721735 0.21627095]\n",
      "[0.13371433 0.82559421]\n"
     ]
    }
   ],
   "source": [
    "\"\"\"\n",
    "ÚKOL: \n",
    "1) Vytvořte náhodnou matici o rozměrech 5x5.\n",
    "2) Do vektoru v uložte poslední řádek matice, vektor vytiskněte.\n",
    "3) Do vektoru u uložte prvky na druhém řádku matice v prvním a posledním sloupci, vytiskněte.\n",
    "\"\"\"\n",
    "import numpy as np\n",
    "\n",
    "A = np.random.rand(5, 5)\n",
    "print(A)\n",
    "v = A[4, 0:5]\n",
    "print(v)\n",
    "u = A[1, 0:5:4]\n",
    "print(u)\n"
   ]
  },
  {
   "attachments": {},
   "cell_type": "markdown",
   "metadata": {},
   "source": [
    "Vektory v NumPy mohou být reprezentovány jako \n",
    "1) 1D pole, např. `x = np.array([1, 2, 3])` nebo `y = ones(6)`\n",
    "2) 2D pole ve formě řádku, např. `x = np.array([[1, 2, 3]])` nebo `y = np.zeros((1, 4))`\n",
    "3) 2D pole ve formě sloupce, např. `x = np.array([[1], [2], [3]])`, `y = np.zeros((5, 1))` nebo `y = np.array([[1, 2, 3]]).T`\n",
    "\n",
    "Vzhledem k tomu, že vektory budeme využívat zejména k účelům algoritmů lineární algebry, doporučuji vám je rovnou vytvářet ve 2D formě jako řádek nebo sloupec. Další možnost je vytvořit 1D pole a to _reshapovat_ na správné rozměry."
   ]
  },
  {
   "cell_type": "code",
   "execution_count": 38,
   "metadata": {},
   "outputs": [
    {
     "name": "stdout",
     "output_type": "stream",
     "text": [
      "[[1]\n",
      " [2]\n",
      " [3]]\n",
      "(3, 1)\n",
      "---------------------\n",
      "[1 2 3]\n",
      "(3,)\n"
     ]
    }
   ],
   "source": [
    "x = np.array([1, 2, 3])     # vytvoří 1D pole (ani řádek, ani sloupec)\n",
    "x = x.reshape(3, 1)         # konvertuje x na 2D sloupcový vektor\n",
    "print(x)\n",
    "print(np.shape(x))          # vytiskne rozměry x \n",
    "\n",
    "print(\"---------------------\")\n",
    "\n",
    "y = np.array([1, 2, 3]).T   # vytvoříme řádkový vektor a transponujeme jej\n",
    "print(y)\n",
    "print(np.shape(y))"
   ]
  },
  {
   "cell_type": "code",
   "execution_count": 39,
   "metadata": {},
   "outputs": [
    {
     "name": "stdout",
     "output_type": "stream",
     "text": [
      "1.1960387337377236\n",
      "[[0.78844685]]\n",
      "[[0.74667098]\n",
      " [0.31253808]\n",
      " [0.6085631 ]\n",
      " [1.48244747]\n",
      " [0.91359404]]\n"
     ]
    }
   ],
   "source": [
    "\"\"\"\n",
    "ÚKOL: \n",
    "1) Vytvořte náhodný sloupcový vektor x délky 5 a náhodný řádkový vektor y délky 5\n",
    "2) Pomocí vhodných funkcí z knihovny NumPy určete \n",
    "    - normu vektoru x\n",
    "    - skalární součin vektoru y s vektorem x\n",
    "    - součet vektoru x s transpozicí vektoru y\n",
    "\"\"\"\n",
    "import numpy as np\n",
    "x = np.random.rand(5)\n",
    "x = x.reshape(5, 1)\n",
    "y = np.random.rand(5)\n",
    "y = y.reshape(1, 5)\n",
    "\n",
    "n = np.linalg.norm(x)\n",
    "print(n)\n",
    "\n",
    "skal = np.dot(y, x)\n",
    "print(skal)\n",
    "\n",
    "sum = x + np.transpose(y)\n",
    "print(sum)"
   ]
  },
  {
   "cell_type": "code",
   "execution_count": null,
   "metadata": {},
   "outputs": [],
   "source": [
    "\"\"\"\n",
    "ÚKOL:\n",
    "Vypočítejte nyní normu vektoru x a skalární součin y*x \"manuálně\" pomocí cyklů for.\n",
    "\"\"\"\n",
    "\n",
    "\n",
    "\n"
   ]
  },
  {
   "attachments": {},
   "cell_type": "markdown",
   "metadata": {},
   "source": [
    "NumPy podporuje také samozřejmě také násobení matice s vektorem či matice s maticí. K tomu lze využít funkci `matmul` nebo operátor `@`."
   ]
  },
  {
   "cell_type": "code",
   "execution_count": null,
   "metadata": {},
   "outputs": [],
   "source": [
    "A = np.ones((3, 3))\n",
    "x = np.array([0, 1, 2])\n",
    "x = x.reshape(3, 1)         # převedeme x na sloupcový vektor abychom jím mohli násobit matici zprava\n",
    "\n",
    "y = np.matmul(A, x)         # násobení pomocí matmul\n",
    "print(y)\n",
    "\n",
    "z = A @ x                   # násobení pomocí operátoru @\n",
    "print(y)\n",
    "\n",
    "B = np.random.rand(3, 3)\n",
    "C = np.matmul(A, B)\n",
    "print(C)"
   ]
  },
  {
   "cell_type": "code",
   "execution_count": 40,
   "metadata": {},
   "outputs": [],
   "source": [
    "\"\"\"\n",
    "ÚKOL:\n",
    "Do funkce muj_matvec implementujte vaši verzi násobení matice s vektorem.\n",
    "Využijte dvě vnořené smyčky for. Na vstupu bude matice A a sloupcový vektor x \n",
    "odpovídající délky. Funkce bude vracet vektor y = Ax.\n",
    "\"\"\"\n",
    "\n",
    "def muj_matvec(A, x):\n",
    "    m, n = np.shape(A)      # tuple unpacking, m obsahuje počet řádků, n počet sloupců matice A\n",
    "    y = \n",
    "\n",
    "    for i in \n",
    "        for j in \n",
    "            \n",
    "\n",
    "    return y"
   ]
  },
  {
   "cell_type": "code",
   "execution_count": null,
   "metadata": {},
   "outputs": [],
   "source": [
    "# Zde si voláním funkce ověřte, zda funguje správně:\n",
    "\n",
    "A = np.random.rand(3, 4)\n",
    "x = np.random.rand(4, 1)\n",
    "y = muj_matvec(A, x)\n",
    "print(y)        # vytiskneme výsledek z vaší funkce\n",
    "\n",
    "yy = A @ x\n",
    "print(yy)       # porovnejte s voláním zabudované numpy funkce"
   ]
  },
  {
   "cell_type": "code",
   "execution_count": null,
   "metadata": {},
   "outputs": [],
   "source": [
    "# Porovnáme časy výpočtu pomocí vaší funkce a zabudované numpy funkce\n",
    "import time\n",
    "\n",
    "A = np.random.rand(2000, 2000)\n",
    "x = np.random.rand(2000, 1)\n",
    "\n",
    "# otestujeme vaši implementaci \n",
    "st = time.time()\n",
    "y = muj_matvec(A, x)\n",
    "et = time.time()\n",
    "\n",
    "your_time = et - st\n",
    "\n",
    "# otestujeme zabudovanou implementaci\n",
    "st = time.time()\n",
    "yy = A @ x\n",
    "et = time.time()\n",
    "\n",
    "numpy_time = et - st\n",
    "\n",
    "print(\"Čas výpočtu pomocí vaší funkce: {} sekund\".format(your_time))\n",
    "print(\"Čas výpočtu pomocí numpy funkce: {} sekund\".format(numpy_time))"
   ]
  },
  {
   "attachments": {},
   "cell_type": "markdown",
   "metadata": {},
   "source": [
    "Implementujte nyní násobení matice-vektor na základě předpisu $$A\\mathbf{x} = \\sum_{i=1}^n x_i \\mathbf{a}_i,$$\n",
    "kde $\\mathbf{a}_i$ je $i$-tý sloupec matice $A$ a $x_i$ je příslušný prvek vektoru $\\mathbf{x}$.\n",
    "\n",
    "Nápověda: budete-li chtít vytáhnout sloupec matice pomocí příkazu `A[:, i]`, NumPy redukuje dimenzi a vrátí 1D vektor. Pro získání 2D sloupcového vektoru je třeba zavolat `A[:, [i]]`."
   ]
  },
  {
   "cell_type": "code",
   "execution_count": 25,
   "metadata": {},
   "outputs": [],
   "source": [
    "# ÚKOL: Doplňte implementaci.\n",
    "\n",
    "def muj_matvec_v2(A, x):\n",
    "    "
   ]
  },
  {
   "cell_type": "code",
   "execution_count": null,
   "metadata": {},
   "outputs": [],
   "source": [
    "# Ověřte funkčnost :\n",
    "\n"
   ]
  },
  {
   "cell_type": "code",
   "execution_count": null,
   "metadata": {},
   "outputs": [],
   "source": [
    "# Otestujte na stejně velké matici jako vaši předchozí verzi a porovnejte výpočetní časy. \n",
    "# Liší se časy významně? Pokud ano, pokuste se zdůvodnit proč.\n",
    "\n",
    "A = np.random.rand(2000, 2000)\n",
    "x = np.random.rand(2000, 1)\n",
    "\n",
    "# otestujeme vaši implementaci \n",
    "st = time.time()\n",
    "y = muj_matvec_v2(A, x)\n",
    "et = time.time()\n",
    "\n",
    "your_time = et - st\n",
    "\n",
    "# otestujeme zabudovanou implementaci\n",
    "st = time.time()\n",
    "yy = A @ x\n",
    "et = time.time()\n",
    "\n",
    "numpy_time = et - st\n",
    "\n",
    "print(\"Čas výpočtu pomocí vaší funkce: {} sekund\".format(your_time))\n",
    "print(\"Čas výpočtu pomocí numpy funkce: {} sekund\".format(numpy_time))"
   ]
  },
  {
   "cell_type": "code",
   "execution_count": null,
   "metadata": {},
   "outputs": [],
   "source": [
    "# Bonus: Pokuste se implementovat funkci mat_mat, která bude násobit dvě matice. \n",
    "# Porovnejte výkon s funkcí z knihovny NumPy.\n"
   ]
  }
 ],
 "metadata": {
  "kernelspec": {
   "display_name": "Python 3",
   "language": "python",
   "name": "python3"
  },
  "language_info": {
   "codemirror_mode": {
    "name": "ipython",
    "version": 3
   },
   "file_extension": ".py",
   "mimetype": "text/x-python",
   "name": "python",
   "nbconvert_exporter": "python",
   "pygments_lexer": "ipython3",
   "version": "3.10.6"
  },
  "orig_nbformat": 4,
  "vscode": {
   "interpreter": {
    "hash": "31f2aee4e71d21fbe5cf8b01ff0e069b9275f58929596ceb00d14d90e3e16cd6"
   }
  }
 },
 "nbformat": 4,
 "nbformat_minor": 2
}
