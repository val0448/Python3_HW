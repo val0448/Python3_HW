{
 "cells": [
  {
   "attachments": {},
   "cell_type": "markdown",
   "metadata": {},
   "source": [
    "# Prostory jmen a obor platnosti proměnných:\n",
    "- Upravte funkci nalézající prvočísla tak, aby ukládala již spočítané prvočísla do listu v defaultním argumentu funkce. \n"
   ]
  },
  {
   "cell_type": "code",
   "execution_count": 10,
   "metadata": {},
   "outputs": [
    {
     "data": {
      "text/plain": [
       "[2, 3, 5, 7, 11, 13, 17, 19, 23, 29]"
      ]
     },
     "execution_count": 10,
     "metadata": {},
     "output_type": "execute_result"
    }
   ],
   "source": [
    "def prvo(n, prvocisla=[]):\n",
    "    if prvocisla == []:\n",
    "        prvocisla = [2]\n",
    "\n",
    "    cislo = prvocisla[-1] + 1\n",
    "    while len(prvocisla) < n:\n",
    "        if all(cislo % prvocislo != 0 for prvocislo in prvocisla):\n",
    "            prvocisla.append(cislo)\n",
    "        cislo += 1\n",
    "\n",
    "    return prvocisla\n",
    "\n",
    "prvo(10)"
   ]
  },
  {
   "attachments": {},
   "cell_type": "markdown",
   "metadata": {},
   "source": [
    "\n",
    "# Jupyter magics:\n",
    "- použijte funkci %%writefile a pomocí ní (a kopie funkcí z posledního DU) vytvořte .py soubor sloužící jako modul mající tři funkce viz minulý DU\n",
    "- Použijte magic příkazy %time %timeit %%time a %%timeit k měření času běhu různých částí kódu (například funkcí z minulého DU).\n"
   ]
  },
  {
   "cell_type": "code",
   "execution_count": 22,
   "metadata": {},
   "outputs": [
    {
     "name": "stderr",
     "output_type": "stream",
     "text": [
      "UsageError: Line magic function `%%timeit` not found.\n"
     ]
    }
   ],
   "source": [
    "%%writefile pi_aprox.py\n",
    "\n",
    "def sqr_iter(num, iter):\n",
    "    guess = num\n",
    "    for i in range(iter):\n",
    "        guess = ((guess + num/ guess) / 2)\n",
    "    return guess\n",
    "\n",
    "def approx(n):\n",
    "    a = 1\n",
    "    b = 1\n",
    "    v = sqr_iter((a - (b/2)**2), 1000)\n",
    "    num = 6 * (2**n)\n",
    "    for i in range(n):\n",
    "        b = sqr_iter(((b/2)**2 + (a - v)**2), 1000)\n",
    "        v = sqr_iter((a - (b/2)**2), 1000)\n",
    "    S = (num * b * v)/2\n",
    "    return S\n",
    "\n",
    "def pi_approximation(n):\n",
    "    sqrt_3 = sqr_iter(3, 1000)\n",
    "    a = [0, 0.5 * (1 / 2**3)]\n",
    "    for i in range(2, n):\n",
    "        a_i = a[i-1] * ((2*i-3) / (2*i*4))\n",
    "        a.append(a_i)\n",
    "    sum_a = sum([(1 / (2*i+1)) * a[i] for i in range(1, n)])\n",
    "    pi_approx = 12 * (-sqrt_3 / 8 + 0.5 - sum_a)\n",
    "    return pi_approx\n",
    "\n",
    "#%time approx(100)\n",
    "#%time pi_approximation(100)"
   ]
  },
  {
   "cell_type": "markdown",
   "metadata": {},
   "source": [
    "\n",
    "# Práce s řetězci:\n",
    "\n",
    "- Použíjte funkce z minulého úkolu a v cyklu spočtěte $\\pi$ s různým $n$. Pomocí f-strings vypište výsledky ve formátu \"n = 5, pi = 3.14159, počet správných cifer = 5\".\n"
   ]
  },
  {
   "cell_type": "code",
   "execution_count": 30,
   "metadata": {},
   "outputs": [
    {
     "name": "stdout",
     "output_type": "stream",
     "text": [
      "n = 5, pi = 3.14161, počet správných cifer = 4\n",
      "n = 10, pi = 3.14159, počet správných cifer = 8\n",
      "n = 15, pi = 3.14159, počet správných cifer = 11\n",
      "n = 20, pi = 3.14159, počet správných cifer = 15\n",
      "n = 25, pi = 3.14159, počet správných cifer = 15\n",
      "n = 30, pi = 3.14159, počet správných cifer = 15\n",
      "n = 35, pi = 3.14159, počet správných cifer = 15\n",
      "n = 40, pi = 3.14159, počet správných cifer = 15\n",
      "n = 45, pi = 3.14159, počet správných cifer = 15\n",
      "n = 50, pi = 3.14159, počet správných cifer = 15\n"
     ]
    }
   ],
   "source": [
    "import math\n",
    "\n",
    "def sqr_iter(num, num_iter):\n",
    "    guess = num\n",
    "    for i in range(num_iter):\n",
    "        guess = ((guess + num/ guess) / 2)\n",
    "    return guess\n",
    "\n",
    "def pi_approximation(n):\n",
    "    sqrt_3 = sqr_iter(3, 1000)\n",
    "    a = [0, 0.5 * (1 / 2**3)]\n",
    "    for i in range(2, n):\n",
    "        a_i = a[i-1] * ((2*i-3) / (2*i*4))\n",
    "        a.append(a_i)\n",
    "    sum_a = sum([(1 / (2*i+1)) * a[i] for i in range(1, n)])\n",
    "    pi_approx = 12 * (-sqrt_3 / 8 + 0.5 - sum_a)\n",
    "    return pi_approx\n",
    "\n",
    "for n in range(5, 51, 5):\n",
    "    pi_approx = pi_approximation(n)\n",
    "    correct_digits = -int(math.log10(abs(pi_approx - math.pi)))\n",
    "    print(f\"n = {n}, pi = {pi_approx:.5f}, počet správných cifer = {correct_digits}\")"
   ]
  },
  {
   "cell_type": "markdown",
   "metadata": {},
   "source": [
    "\n",
    "# Generátory a iterátory:\n",
    "\n",
    "- Napište generátor (funkci), který vytváří Fibonacciho posloupnost a vrátí prvních $n$ členů.\n"
   ]
  },
  {
   "cell_type": "code",
   "execution_count": 32,
   "metadata": {},
   "outputs": [
    {
     "name": "stdout",
     "output_type": "stream",
     "text": [
      "0\n",
      "1\n",
      "1\n",
      "2\n",
      "3\n",
      "5\n",
      "8\n",
      "13\n",
      "21\n",
      "34\n"
     ]
    }
   ],
   "source": [
    "def fibonacci(n):\n",
    "    a, b = 0, 1\n",
    "    for i in range(n):\n",
    "        yield a\n",
    "        a, b = b, a + b\n",
    "\n",
    "for i in fibonacci(10):\n",
    "    print(i)"
   ]
  },
  {
   "cell_type": "markdown",
   "metadata": {},
   "source": [
    "\n",
    "# List comprehension:\n",
    "- Vytvořte seznam čísel od 1 do 10 pomocí list comprehension.\n",
    "- Vytvořte seznam druhých mocnin čísel od 1 do 10 pomocí list comprehension.\n",
    "- Vytvořte seznam prvočísel od 1 do 100 pomocí list comprehension. Hint (použijte funkci all() na generátor testující dělitelnost).\n"
   ]
  },
  {
   "cell_type": "code",
   "execution_count": 33,
   "metadata": {},
   "outputs": [
    {
     "name": "stdout",
     "output_type": "stream",
     "text": [
      "[2, 3, 5, 7, 11, 13, 17, 19, 23, 29, 31, 37, 41, 43, 47, 53, 59, 61, 67, 71, 73, 79, 83, 89, 97]\n",
      "[1, 4, 9, 16, 25, 36, 49, 64, 81, 100]\n",
      "[1, 2, 3, 4, 5, 6, 7, 8, 9, 10]\n"
     ]
    }
   ],
   "source": [
    "numbers = [i for i in range(1, 11)]\n",
    "squares = [i**2 for i in range(1, 11)]\n",
    "primes = [i for i in range(2, 101) if all(i % j != 0 for j in range(2, int(i**0.5)+1))]\n",
    "print(primes)\n",
    "print(squares)\n",
    "print(numbers)"
   ]
  },
  {
   "cell_type": "markdown",
   "metadata": {},
   "source": [
    "\n",
    "# Práce se soubory:\n",
    "- Pomocí %%writefile vytvořte soubor s nějakým textem.\n",
    "- Otevřete soubor pro čtení a vypište jeho obsah.\n",
    "- Otevřete jiný soubor pro zápis a napište do něj textový řetězec.\n",
    "- Pomocí f-strings zapište do souboru tabulku čísel od 1 do 10, jejich druhých mocnin a jejich druhých odmocnin."
   ]
  },
  {
   "cell_type": "code",
   "execution_count": 34,
   "metadata": {},
   "outputs": [
    {
     "name": "stdout",
     "output_type": "stream",
     "text": [
      "Writing sample_text.txt\n"
     ]
    }
   ],
   "source": [
    "%%writefile sample_text.txt\n",
    "wignwrgnowrgnwg\n",
    "ewgwegweg\n",
    "1123445432"
   ]
  },
  {
   "cell_type": "code",
   "execution_count": 36,
   "metadata": {},
   "outputs": [
    {
     "name": "stdout",
     "output_type": "stream",
     "text": [
      "wignwrgnowrgnwg\n",
      "ewgwegweg\n",
      "1123445432\n",
      "\n"
     ]
    }
   ],
   "source": [
    "with open('sample_text.txt', 'r') as file:\n",
    "    content = file.read()\n",
    "    print(content)\n",
    "\n",
    "with open('output.txt', 'w') as file:\n",
    "    file.write('wjgweghewliewhgliwh')\n",
    "\n",
    "with open('table.txt', 'w') as file:\n",
    "    for i in range(1, 11):\n",
    "        square = i**2\n",
    "        sqrt = i**0.5\n",
    "        line = f'{i} {square} {sqrt:.2f}\\n'\n",
    "        file.write(line)\n"
   ]
  },
  {
   "attachments": {},
   "cell_type": "markdown",
   "metadata": {},
   "source": [
    "# Domácí úkol:\n",
    "Pomocí vlastních tříd a dědičnosti vytvořte \"soubor tříd\" = nástroj pro derivaci funkcí.\n",
    "\n",
    "Konkrétněji:\n",
    "- Vytvořte třídu **Operator**\n",
    "    - Třída bude mít metody:\n",
    "        - `__init__()` - inicializuje operátor (zde stačí `pass`)\n",
    "        - `__str__()` - vrací řetězec reprezentující operátor\n",
    "        - `__repr__()` - vrací řetězec reprezentující operátor\n",
    "- Vytvořte třídu **BinaryOperator**, která bude dědit od třídy Operator\n",
    "    - Třída bude mít atributy:\n",
    "        - `levy_argument` - levý operand\n",
    "        - `pravy_argument` - pravý operand\n",
    "    - Třída bude mít metody:\n",
    "        - `__init__()` - inicializuje operátor, přiřadí argumenty\n",
    "        - `__str__()` - vrací řetězec reprezentující operátor\n",
    "        - `__repr__()` - vrací řetězec reprezentující operátor\n",
    "        - `diff()` - vrací derivaci operátoru\n",
    "- Vytvořte třídu **UnaryOperator**, která bude dědit od třídy Operator\n",
    "    - Třída bude mít atributy:\n",
    "        - `argument` - argument funkce \n",
    "    - Třída bude mít metody:\n",
    "        - `__init__()` - inicializuje operátor, přiřadí argument\n",
    "        - `__str__()` - vrací řetězec reprezentující operátor\n",
    "        - `__repr__()` - vrací řetězec reprezentující operátor\n",
    "        - `diff()` - vrací derivaci operátoru\n",
    "\n",
    "Pro počítání derivací použijte standardní pravidla:\n",
    "- derivace součtu je součet derivací\n",
    "- pravidlo pro derivaci součinu\n",
    "- derivace funkce je derivovaná funkce násobená derivovaným argumentem\n",
    "\n",
    "Pro **BinaryOperator** a **UnaryOperator** implementujte také metody implementující standardní operátory:\n",
    "- `__add__()` - implementuje operátor `+`\n",
    "- `__sub__()` - implementuje operátor `-`\n",
    "- `__mul__()` - implementuje operátor `*`\n",
    "\n",
    "Pro **BinaryOperator** implementujte dvě dceřiné třídy:\n",
    "- **Addition** - implementuje operátor `+`\n",
    "- **Multiplication** - implementuje operátor `*`\n",
    "\n",
    "Pro **UnaryOperator** implementujte tyto dceřiné třídy:\n",
    "- **exp** - implementuje funkci `exp`\n",
    "- **sin** - implementuje funkci `sin`\n",
    "- **cos** - implementuje funkci `cos`\n",
    "- **ln** - implementuje funkci `ln`\n",
    "- **frc** - implementuje funkci `1/x`\n",
    "- **identity** - implementuje identitu `x`\n",
    "- **cst** - implementuje konstantu `c`\n",
    "- **mocnina** - implementuje mocninu `x^n`\n",
    "\n",
    "U všech funckí implementujte adekvátně metodu `diff()` a `__str__()`, tak aby se funkce vypisovaly v přehledné podobě.\n",
    "\n",
    "Ozkoušejte na následujících funkcích:\n",
    "- $sin(x + cos(x*x)) + 1$\n",
    "- $x^2 + 2x + 1 + 2x^2$\n",
    "- $x^2 + 2x + exp(x)$"
   ]
  },
  {
   "cell_type": "code",
   "execution_count": 43,
   "metadata": {},
   "outputs": [],
   "source": [
    "import numpy as np\n",
    "import math\n",
    "\n",
    "class Operator:\n",
    "    def __init__(self):\n",
    "        pass\n",
    "    \n",
    "    def __str__(self):\n",
    "        return type(self).__name__\n",
    "    \n",
    "    def __repr__(self):\n",
    "        return self.__str__()\n",
    "    \n",
    "    def diff(self):\n",
    "        pass\n",
    "    \n",
    "    def __add__(self, other):\n",
    "        return Addition(self, other)\n",
    "    \n",
    "    def __sub__(self, other):\n",
    "        return Addition(self, Multiplication(cst(-1), other))\n",
    "    \n",
    "    def __mul__(self, other):\n",
    "        return Multiplication(self, other)\n",
    "    \n",
    "class BinaryOperator(Operator):\n",
    "    def __init__(self, levy_argument, pravy_argument):\n",
    "        self.levy_argument = levy_argument\n",
    "        self.pravy_argument = pravy_argument\n",
    "        \n",
    "class UnaryOperator(Operator):\n",
    "    def __init__(self, argument):\n",
    "        self.argument = argument\n",
    "    \n",
    "    def __str__(self):\n",
    "        return type(self).__name__ + \"(\" + str(self.argument) + \")\"\n",
    "        \n",
    "class Addition(BinaryOperator):\n",
    "    def __str__(self):\n",
    "        return \"(\" + str(self.levy_argument) + \") + (\" + str(self.pravy_argument) + \")\"\n",
    "    \n",
    "    def diff(self):\n",
    "        return self.levy_argument.diff() + self.pravy_argument.diff()\n",
    "    \n",
    "class Multiplication(BinaryOperator):\n",
    "    def __str__(self):\n",
    "        return \"(\" + str(self.levy_argument) + \") * (\" + str(self.pravy_argument) + \")\"\n",
    "    \n",
    "    def diff(self):\n",
    "        return self.levy_argument.diff() * self.pravy_argument + self.levy_argument * self.pravy_argument.diff()\n",
    "    \n",
    "class cst(UnaryOperator):\n",
    "    def __init__(self, value):\n",
    "        self.value = value\n",
    "        \n",
    "    def __str__(self):\n",
    "        return str(self.value)\n",
    "    \n",
    "    def diff(self):\n",
    "        return cst(0)\n",
    "    \n",
    "class identity(UnaryOperator):\n",
    "    def __init__(self):\n",
    "        pass\n",
    "    \n",
    "    def __str__(self):\n",
    "        return \"x\"\n",
    "    \n",
    "    def diff(self):\n",
    "        return cst(1)\n",
    "    \n",
    "class mocnina(UnaryOperator):\n",
    "    def __init__(self, argument, exponent):\n",
    "        self.argument = argument\n",
    "        self.exponent = exponent\n",
    "        \n",
    "    def __str__(self):\n",
    "        return \"(\" + str(self.argument) + \")^\" + str(self.exponent)\n",
    "    \n",
    "    def diff(self):\n",
    "        return cst(self.exponent) * self.argument.diff() * mocnina(self.argument, cst(self.exponent - 1))\n",
    "    \n",
    "class sin(UnaryOperator):\n",
    "    def diff(self):\n",
    "        return cos(self.argument) * self.argument.diff()\n",
    "\n",
    "class cos(UnaryOperator):\n",
    "    def diff(self):\n",
    "        return cst(-1) * sin(self.argument) * self.argument.diff()\n",
    "\n",
    "class exp(UnaryOperator):\n",
    "    def diff(self):\n",
    "        return self * self.argument.diff()\n",
    "\n",
    "class ln(UnaryOperator):\n",
    "    def diff(self):\n",
    "        return self.argument.diff() / self.argument\n",
    "    \n",
    "class frc(UnaryOperator):\n",
    "    def __str__(self):\n",
    "        return \"1/(\" + str(self.argument) + \")\"\n",
    "    \n",
    "    def diff(self):\n",
    "        return cst(-1) * self.argument.diff() / mocnina(self.argument, 2)\n"
   ]
  },
  {
   "cell_type": "code",
   "execution_count": 46,
   "metadata": {},
   "outputs": [
    {
     "name": "stdout",
     "output_type": "stream",
     "text": [
      "(sin((x) + (cos((x) * (x))))) + (1)\n",
      "((cos((x) + (cos((x) * (x))))) * ((1) + (((-1) * (sin((x) * (x)))) * (((1) * (x)) + ((x) * (1)))))) + (0)\n"
     ]
    }
   ],
   "source": [
    "# takto by se to mělo používat\n",
    "x = identity()\n",
    "# sin(x + cos(x*x)) + 1\n",
    "f1 = sin(x + cos(x*x)) + cst(1)\n",
    "print(f1)\n",
    "print(f1.diff())"
   ]
  },
  {
   "attachments": {},
   "cell_type": "markdown",
   "metadata": {},
   "source": [
    "můj výstup byl:\n",
    "\n",
    "`sin(x + cos((x)*(x))) + 1`\n",
    "\n",
    "`(cos(x + cos((x)*(x))))*(1 + ((-1)*(sin((x)*(x))))*((1)*(x) + (x)*(1))) + 0`"
   ]
  },
  {
   "cell_type": "code",
   "execution_count": 44,
   "metadata": {},
   "outputs": [
    {
     "name": "stdout",
     "output_type": "stream",
     "text": [
      "((((x)^2) + ((2) * (x))) + (1)) + ((2) * ((x)^2))\n",
      "(((((2) * (1)) * ((x)^1)) + (((0) * (x)) + ((2) * (1)))) + (0)) + (((0) * ((x)^2)) + ((2) * (((2) * (1)) * ((x)^1))))\n"
     ]
    }
   ],
   "source": [
    "x = identity()\n",
    "# x ^ 2 + 2x + 1 + 2x ^ 2\n",
    "f2 = mocnina(x,2) + cst(2)*x + cst(1) + cst(2)*mocnina(x,2)\n",
    "print(f2)\n",
    "print(f2.diff())\n"
   ]
  },
  {
   "attachments": {},
   "cell_type": "markdown",
   "metadata": {},
   "source": [
    "můj výstup byl:\n",
    "\n",
    "`(x)^2 + (2)*(x) + 1 + (2)*((x)^2)`\n",
    "\n",
    "`((2)*((x)^1))*(1) + (0)*(x) + (2)*(1) + 0 + (0)*((x)^2) + (2)*(((2)*((x)^1))*(1))`"
   ]
  },
  {
   "cell_type": "code",
   "execution_count": 45,
   "metadata": {},
   "outputs": [
    {
     "name": "stdout",
     "output_type": "stream",
     "text": [
      "(((x)^2) + ((2) * (x))) + (exp(x))\n",
      "((((2) * (1)) * ((x)^1)) + (((0) * (x)) + ((2) * (1)))) + ((exp(x)) * (1))\n"
     ]
    }
   ],
   "source": [
    "x = identity()\n",
    "# x ^ 2 + 2x + exp(x)\n",
    "f3 = mocnina(x,2) + cst(2)*x + exp(x)\n",
    "print(f3)\n",
    "print(f3.diff())\n"
   ]
  },
  {
   "attachments": {},
   "cell_type": "markdown",
   "metadata": {},
   "source": [
    "můj výstup byl:\n",
    "\n",
    "`(x)^2 + (2)*(x) + exp(x)`\n",
    "\n",
    "`((2)*((x)^1))*(1) + (0)*(x) + (2)*(1) + (exp(x))*(1)`\n"
   ]
  },
  {
   "attachments": {},
   "cell_type": "markdown",
   "metadata": {},
   "source": [
    "# Bonusový úkol:\n",
    "Doplňte ke všem třídám metodu `simplify()`, která provede zjednodušení výrazu. Například:\n",
    "- součet s nulou vrátí druhý operand\n",
    "- součin s nulou vrátí nulu\n",
    "- mocnina s exponentem 0 vrátí 1\n",
    "- mocnina s exponentem 1 vrátí první argument\n",
    "- součín dvou stejných argumentů vrátí mocninu s exponentem 2\n",
    "- součin konstant vrátí konstantu se součinem\n",
    "- ..."
   ]
  },
  {
   "cell_type": "markdown",
   "metadata": {},
   "source": []
  }
 ],
 "metadata": {
  "kernelspec": {
   "display_name": "Python 3",
   "language": "python",
   "name": "python3"
  },
  "language_info": {
   "codemirror_mode": {
    "name": "ipython",
    "version": 3
   },
   "file_extension": ".py",
   "mimetype": "text/x-python",
   "name": "python",
   "nbconvert_exporter": "python",
   "pygments_lexer": "ipython3",
   "version": "3.10.6"
  },
  "orig_nbformat": 4,
  "vscode": {
   "interpreter": {
    "hash": "e7370f93d1d0cde622a1f8e1c04877d8463912d04d973331ad4851f04de6915a"
   }
  }
 },
 "nbformat": 4,
 "nbformat_minor": 2
}
