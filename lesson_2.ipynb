{
 "cells": [
  {
   "attachments": {},
   "cell_type": "markdown",
   "metadata": {},
   "source": [
    "# Cvičení 2\n",
    "\n",
    "V rámci tohoto cvičení se budeme zabývat zejména metodou konečných diferencí (metodou sítí) v 1D a řešením soustav lineárních rovnic. \n",
    "\n",
    "## Průhyb struny \n",
    "Připomeňme, že průhyb struny délky $L$ zatížené silou $f$ a uchycené v obou krajních bodech lze popsat obyčejnou diferenciální rovnici\n",
    "$$-u''(x) = f(x)\\qquad \\text{pro } x\\in (0, L)$$\n",
    "spolu s okrajovými podmínkami \n",
    "$$u(0)=u(L)=0,$$\n",
    "které určují uchycení struny v krajních bodech intervalu a zajišťují jednoznačnost řešení.\n",
    "\n",
    "Abychom řešení mohli určit numericky, musíme \n",
    "- interval $\\left\\langle 0, L \\right\\rangle$ diskretizovat, tzn. rozdělit na konečný počet podintervalů $\\left\\langle x_0, x_1\\right), \\left\\langle x_1, x_2\\right), \\ldots\\left\\langle x_{n-1}, x_n\\right)$,\n",
    "- sestavit matici soustavy $\\mathsf{A}$, \n",
    "- sestavit vektor pravé strany $\\mathbf{f}$, \n",
    "- vyřešit soustavu $\\mathsf{A}\\mathbf{u}=\\mathbf{f}$ pro neznámý vektor $\\mathbf{u}$, který popisuje průhyb struny ve vnitřních bodech \n",
    "\n",
    "Detailní odvození najdete v přednášce.\n",
    "\n",
    "Vytvoříme si nejdříve pomocné funkce, které se postarají o jednotlivé kroky."
   ]
  },
  {
   "attachments": {},
   "cell_type": "markdown",
   "metadata": {},
   "source": [
    "### Diskretizace intervalu\n",
    "\n",
    "Nejdříve vytvoříme funkci `diskretizuj_interval()`, která bude mít na vstupu délku intervalu $L$ a počet bodů diskretizace. \n",
    "\n",
    "Ve funkci vám stačí zavolat jednu z funkcí knihovny NumPy, se kterou jste se již seznámili v předchozím cvičení. "
   ]
  },
  {
   "cell_type": "code",
   "execution_count": 2,
   "metadata": {},
   "outputs": [],
   "source": [
    "# ÚKOL: Doplňte definici funkce tak, aby vracela diskretizovaný interval.\n",
    "\n",
    "import numpy as np\n",
    "\n",
    "def diskretizuj_interval(L, N):\n",
    "    "
   ]
  },
  {
   "cell_type": "code",
   "execution_count": null,
   "metadata": {},
   "outputs": [],
   "source": [
    "# Otestujte, zda vaše metoda funguje správně. Následující volání by mělo \n",
    "# vypsat pole [0. 1. 2. 3. 4.]\n",
    "x = diskretizuj_interval(4, 5)\n",
    "print(x)"
   ]
  },
  {
   "attachments": {},
   "cell_type": "markdown",
   "metadata": {},
   "source": [
    "### Sestavení matice soustavy\n",
    "\n",
    "Matice soustavy z metody konečných diferencí má následující tvar\n",
    "$$ \\mathsf{A} = \\begin{bmatrix} \n",
    "2 &  -1 & 0 & 0 & & \\cdots & & 0  \\\\\n",
    "-1 & 2 & -1 & 0 & & \\cdots & & 0 \\\\\n",
    "0 & -1 & 2 & -1 & &\\cdots & &0 \\\\\n",
    "\\vdots & & & & \\ddots & & &  \\\\\n",
    "0 & & & & & -1 & 2 & -1 \\\\\n",
    "0 & & & & & & -1 & 2\n",
    "\\end{bmatrix}$$\n",
    "\n",
    "Jedná se tedy o třídiagonální matici, která má na hlavní diagonále 2 a na diagonálách pod a nad hlavní diagonálou -1.\n",
    "\n",
    "Vašim dalším úkolem je vytvořit funkci `sestav_matici()`, která bude mít na vstupu dimenzi $N$ a bude vracet odpovídající třídimenzionální matici $\\mathsf{A}$ o rozměrech $N\\times N$.\n",
    "\n",
    "Využít můžete funkci `np.diag()`. Ta má dva způsoby využití:\n",
    "- pokud je na vstupu matice (tzn. 2D pole), vrátí diagonálu této matice (např. `d = diag(A)` vrátí hlavní diagonálu `A`),\n",
    "- pokud je na vstupu 1D pole, vrátí matici, která má toto pole na $k$-té diagonále (např. `A = diag(d, 1)` umístí na první diagonálu matice `A` vektor `v`).\n",
    "\n",
    "Vás v tomto případě tedy zajímá druhý způsob použití."
   ]
  },
  {
   "cell_type": "code",
   "execution_count": null,
   "metadata": {},
   "outputs": [],
   "source": [
    "# Vyzkoušejte si nejprve použití metody np.diag na několika příkladech:\n",
    "\n",
    "np.set_printoptions(precision=3) # pouze pro lepší přehlednost, omezí počet tisknutých desetinných míst\n",
    "\n",
    "A = np.random.rand(3, 3)\n",
    "d0 = np.diag(A)         # uložme hlavní diagonálu matice A do vektoru d0\n",
    "d1_ = np.diag(A, -1)    # uložme diagonálu pod hlavní diagonálou A do d1_ \n",
    "print(A)\n",
    "print(\"---------------------\")\n",
    "print(d0)\n",
    "print(\"---------------------\")\n",
    "print(d1_)\n",
    "print(\"---------------------\")\n",
    "\n",
    "A2 = np.diag(d1_)       # sestaví matici A2, která má na hlavní diagonále vektor d1_\n",
    "print(A2)"
   ]
  },
  {
   "cell_type": "code",
   "execution_count": null,
   "metadata": {},
   "outputs": [],
   "source": [
    "# ÚKOL: Sestavte matici A3, která má na první diagonále nad hlavní diagonálou vektor d0 z předchozí buňky\n",
    "A3 = \n",
    "print(\"---------------------\")\n",
    "print(A3)"
   ]
  },
  {
   "cell_type": "code",
   "execution_count": 5,
   "metadata": {},
   "outputs": [],
   "source": [
    "# ÚKOL: Doplňte definici funkce tak, aby vracela třídiagonální matici metody konečných diferencí\n",
    "# o rozměrech NxN.\n",
    "# Metoda np.diag neumí takovou matici sestavit najednou, takže ji budete muset sestavovat\n",
    "# po částech. \n",
    "\n",
    "def sestav_matici(N):\n",
    "    # Využijte funkce diag a další vhodné funkce pro sestavení potřebných vektorů\n",
    "\n",
    "        \n",
    "    return A"
   ]
  },
  {
   "cell_type": "code",
   "execution_count": null,
   "metadata": {},
   "outputs": [],
   "source": [
    "# Ověřte si, že vaše funkce skutečně vrací třídiagonální matici s 2 na hlavní \n",
    "# diagonále a -1 pod a nad hlavní diagonálou.\n",
    "A = sestav_matici(5)\n",
    "print(A)"
   ]
  },
  {
   "attachments": {},
   "cell_type": "markdown",
   "metadata": {},
   "source": [
    "### Sestavení vektoru pravé strany\n",
    "\n",
    "Nyní sestavíme vektor pravé strany. Ten má v případě metody konečných diferencí a nulových okrajových podmínek tvar\n",
    "$$\n",
    "\\mathbf{f} = \n",
    "\\begin{bmatrix}\n",
    "h^2 f(x_1)\\\\\n",
    "h^2 f(x_2)\\\\\n",
    "\\vdots\\\\\n",
    "h^2 f(x_{n-1})\\\\\n",
    "h^2 f(x_{n})\n",
    "\\end{bmatrix}.\n",
    "$$\n",
    "\n",
    "V našem případě si zvolíme pravou stranu ve tvaru $f(x) = -\\sin(x)$.\n",
    "\n",
    "Vašim úkolem tedy je vytvořit funkci `sestav_f`, která bude mít na vstupu vektor bodů `x` a skalár `h` a na výstupu vektor pravé strany vyhodnocený v těchto bodech."
   ]
  },
  {
   "cell_type": "code",
   "execution_count": 33,
   "metadata": {},
   "outputs": [],
   "source": [
    "# ÚKOL: Doplňte kód funkce sestav_f.\n",
    "\n",
    "def sestav_f(x, h):\n",
    "    "
   ]
  },
  {
   "cell_type": "code",
   "execution_count": null,
   "metadata": {},
   "outputs": [],
   "source": [
    "# Ověřte, že vaše funkce vrací správné hodnoty při volání nad následujícím polem\n",
    "x = np.array([0, np.pi/4, np.pi/2, np.pi])\n",
    "f = sestav_f(x, 0.5)\n",
    "print(f)"
   ]
  },
  {
   "attachments": {},
   "cell_type": "markdown",
   "metadata": {},
   "source": [
    "### Řešení\n",
    "\n",
    "Zbývá dát vše dohromady a sestavit funkci, která bude počítat průhyb struny zatížené danou silou. V našem případě budeme řešit konkrétně úlohu \n",
    "$$-u''(x) = -\\sin(x)\\qquad \\text{pro } x\\in (0, L)$$\n",
    "s okrajovými podmínkami\n",
    "$$u(0) = u(L) = 0.$$\n",
    "\n",
    "Analytickým řešením této úlohy je funkce $u(x) = -(\\sin(x)-\\frac{\\sin(L)}{L}x)$, se kterou následně porovnáme naše numerické řešení.\n",
    "\n",
    "Následující funkce má na vstupu délku struny a počet podintervalů, na které má být interval $\\left\\langle 0, L\\right\\rangle$ diskretizován. Funkce následně:\n",
    "- diskretizuje interval na $N$ podintervalů ($N+1$ bodů),\n",
    "- sestaví matici soustavy,\n",
    "- sestaví vektor pravé strany,\n",
    "- vyřeší soustavu pomocí metody `solve` z NumPy,\n",
    "- vyčíslí analytické řešení,\n",
    "- vykreslí do jednoho grafu numerické i analytické řešení.\n",
    "\n"
   ]
  },
  {
   "cell_type": "code",
   "execution_count": 34,
   "metadata": {},
   "outputs": [],
   "source": [
    "# importujeme knihovnu matplotlib, která umožňuje vykreslování grafů\n",
    "import matplotlib.pyplot as plt     \n",
    "\n",
    "def mkd_1d(L, N):\n",
    "    # Řešíme rovnici průhybu struny zatížené danou silou f na intervalu <0, L>:\n",
    "    # -u''= f, u( 0 ) = 0, u( L ) = 0;   % rovnice struny + okrajové podmínky\n",
    "    # x z <0,L>                            % interval\n",
    "    # f = -sin(x)                          % zatížení\n",
    "    \n",
    "    ## Disretizace intervalu\n",
    "    # Nejdříve rozdělíme interval <0, L> na N stejně dlouhých podintevalů, tim\n",
    "    # vznikne n = N + 1 uzlů sítě { x0, x1, ..., xn }:\n",
    "    n = N + 1                            # počet uzlů\n",
    "    h = L / N                            # krok sítě\n",
    "    x = diskretizuj_interval(L, n)\n",
    "    \n",
    "    ## Sestavení matice A\n",
    "\n",
    "    # Matice soustavy ma rozměry (n-2)x(n-2), protože v krajních uzlech řešení \n",
    "    # známe:\n",
    "    A = sestav_matici(n-2)\n",
    "    \n",
    "    \n",
    "    ## Vektor pravé strany\n",
    "    # Vyhodnotíme funkci f ve vnitřních bodech intervalu a sestavíme vektor \n",
    "    # pravé strany\n",
    "    f = sestav_f(x[1:-1], h)    # promyslete si, co vrací x[1:-1], pokud to není jasné\n",
    "    \n",
    "    ## Numerické řešení\n",
    "    # Soustavu vyřešíme pomocí funkce solve z knihovny NumPy\n",
    "    u_inside = # ÚKOL: doplňte volání vhodné funkce z NumPy k vyřešení soustavy A * u_inside = f\n",
    "\n",
    "    # Řešili jsme ve vnitřních bodech intervalu. Před vykreslením doplníme předepsané\n",
    "    # hodnoty v krajních bodech. Ke spojování vektorů slouží v NumPy funkce concatenate.\n",
    "    u = np.concatenate(([0], u_inside, [0]))\n",
    "    \n",
    "    ## Analyticke reseni\n",
    "    # Známé analytické řešení vyčíslíme na jemné síti\n",
    "    x_analytic = diskretizuj_interval(L, 100)\n",
    "    u_analytic =  -(np.sin(x_analytic) - np.sin(L)*x_analytic/L)\n",
    "    \n",
    "    ## Vykresleni\n",
    "    plt.figure(1)\n",
    "    plt.plot(x, u, 'r-*', label='Numericke reseni')\n",
    "    plt.plot(x_analytic, u_analytic, label='Analyticke reseni')\n",
    "    plt.title('Vypoctene vs analyticke reseni')\n",
    "    plt.legend()\n",
    "    plt.show()\n",
    "\n"
   ]
  },
  {
   "cell_type": "code",
   "execution_count": null,
   "metadata": {},
   "outputs": [],
   "source": [
    "# Zavoláme naši funkci a vykreslíme průhyb struny na intervalu <0, pi> rozděleným na 5 podintervalů.\n",
    "\n",
    "mkd_1d(1, 4)"
   ]
  },
  {
   "attachments": {},
   "cell_type": "markdown",
   "metadata": {},
   "source": [
    "**Úkol**: Hrejte si chvíli s voláním předchozí funkce. Můžete např. zvětšovat počet podintervalů a sledovat, jak se numerické řešení postupně blíží k analytickému."
   ]
  },
  {
   "attachments": {},
   "cell_type": "markdown",
   "metadata": {},
   "source": [
    "### Úkol \n",
    "\n",
    "Upravte nyní kód metody konečných diferencí tak, aby řešila následující úlohu:\n",
    "$$-u''(x) = -1\\qquad \\text{pro } x\\in (0, L)$$\n",
    "s okrajovými podmínkami \n",
    "$$u(0) = 1, u(L) = 2$$\n",
    "\n",
    "Je tedy třeba:\n",
    "- určit správné analytické řešení této úlohy (analogicky k postupu v přednášce) - odvoďte si na papír,\n",
    "- upravit výpočet pravé strany (opět viz přednáška - již nemáme nulové okrajové podmínky),\n",
    "- doplnit správné okrajové hodnoty do vykreslovaného vektoru u,\n",
    "- upravit vykreslení analytického řešení.\n",
    "\n",
    "Vyjděte z kódu v následující buňce a vhodně jej upravte."
   ]
  },
  {
   "cell_type": "code",
   "execution_count": 71,
   "metadata": {},
   "outputs": [],
   "source": [
    "# importujeme knihovnu matplotlib, která umožňuje vykreslování grafů\n",
    "import matplotlib.pyplot as plt     \n",
    "\n",
    "def sestav_f(x, h):\n",
    "    f = np.ones(np.size(x))\n",
    "    # doplňte\n",
    "   \n",
    "    return f\n",
    "\n",
    "def mkd_1d(L, N):\n",
    "    # Řešíme rovnici průhybu struny zatížené danou silou f na intervalu <0, L>:\n",
    "    # -u''= f, u( 0 ) = 1, u( L ) = 2;   % rovnice struny + okrajové podmínky\n",
    "    # x z <0,L>                            % interval\n",
    "    # f = -1                               % zatížení\n",
    "    \n",
    "    ## Disretizace intervalu\n",
    "    # Nejdříve rozdělíme interval <0, L> na N stejně dlouhých podintevalů, tim\n",
    "    # vznikne n = N + 1 uzlů sítě { x0, x1, ..., xn }:\n",
    "    n = N + 1                            # počet uzlů\n",
    "    h = L / N                            # krok sítě\n",
    "    x = diskretizuj_interval(L, n)\n",
    "    \n",
    "    ## Sestavení matice A\n",
    "\n",
    "    # Matice soustavy ma rozměry (n-2)x(n-2), protože v krajních uzlech řešení \n",
    "    # známe:\n",
    "    A = sestav_matici(n-2)\n",
    "    \n",
    "    \n",
    "    ## Vektor pravé strany\n",
    "    # Vyhodnotíme funkci f ve vnitřních bodech intervalu a sestavíme vektor \n",
    "    # pravé strany\n",
    "    f = sestav_f(x[1:-1], h)    \n",
    "    \n",
    "    ## Numerické řešení\n",
    "    # Soustavu vyřešíme pomocí funkce solve z knihovny NumPy\n",
    "    u_inside = np.linalg.solve(A, f)\n",
    "\n",
    "    # Řešili jsme ve vnitřních bodech intervalu. Před vykreslením doplníme předepsané\n",
    "    # hodnoty v krajních bodech. Ke spojování vektorů slouží v NumPy funkce concatenate.\n",
    "    u = np.concatenate(([0], u_inside, [0]))\n",
    "    \n",
    "    ## Analyticke reseni\n",
    "    # Známé analytické řešení vyčíslíme na jemné síti\n",
    "    x_analytic = diskretizuj_interval(L, 100)\n",
    "    u_analytic = # doplňte\n",
    "    \n",
    "    ## Vykresleni\n",
    "    plt.figure(1)\n",
    "    plt.plot(x, u, 'r-*', label='Numericke reseni')\n",
    "    plt.plot(x_analytic, u_analytic, label='Analyticke reseni')\n",
    "    plt.title('Vypoctene vs analyticke reseni')\n",
    "    plt.legend()\n",
    "    plt.show()"
   ]
  },
  {
   "cell_type": "code",
   "execution_count": null,
   "metadata": {},
   "outputs": [],
   "source": [
    "# Vyřešme na struně délky 5. \n",
    "mkd_1d(5, 10)\n",
    "\n",
    "# Otestujte s různým počtem kroků, s různou délkou struny."
   ]
  },
  {
   "cell_type": "code",
   "execution_count": null,
   "metadata": {},
   "outputs": [],
   "source": [
    "'''BONUS: Předchozí implementace metody konečných diferencí je paměťově neefektivní. K uložení matice \n",
    "využívá 2D pole knihovny NumPy, ukládá tedy všechny prvky včetně mimodiagonálních nul. Pokuste se upravit \n",
    "předchozí kód tak, aby pro vytvoření matice a k řešení soustavy využíval knihovnu SciPy.  '''"
   ]
  }
 ],
 "metadata": {
  "kernelspec": {
   "display_name": "base",
   "language": "python",
   "name": "python3"
  },
  "language_info": {
   "codemirror_mode": {
    "name": "ipython",
    "version": 3
   },
   "file_extension": ".py",
   "mimetype": "text/x-python",
   "name": "python",
   "nbconvert_exporter": "python",
   "pygments_lexer": "ipython3",
   "version": "3.10.6"
  },
  "orig_nbformat": 4
 },
 "nbformat": 4,
 "nbformat_minor": 2
}
