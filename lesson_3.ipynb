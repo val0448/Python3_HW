{
 "cells": [
  {
   "attachments": {},
   "cell_type": "markdown",
   "metadata": {},
   "source": [
    "# Cvičení 3\n",
    "\n",
    "Tématem tohoto cvičení jsou přímé metody řešení soustav lineárních rovnic. Budeme se zabývat dopřednou a zpětnou substitucí a LU rozkladem."
   ]
  },
  {
   "attachments": {},
   "cell_type": "markdown",
   "metadata": {},
   "source": [
    "## Dopředná a zpětná substituce\n",
    "\n",
    "Základní princip přímých metod řešení soustav lineárních rovnic je převod matice soustavy na součin trojúhelníkových matic, např. \n",
    "$$\\mathsf{A} = \\mathsf{L}\\mathsf{U}.$$\n",
    "Soustavu $\\mathsf{A}\\mathbf{x} = \\mathbf{b}$ tak převedeme na tvar\n",
    "$$\\mathsf{L}\\mathsf{U}\\mathbf{x} = \\mathbf{b}$$\n",
    "a vyřešíme ji ve dvou krocích \n",
    "1) $\\mathsf{L}\\mathbf{y}=\\mathbf{b}$\n",
    "2) $\\mathsf{U}\\mathbf{x}=\\mathbf{y}$\n",
    "pomocí dopředné a zpětné substituce.\n",
    "\n",
    "V této části cvičení tedy nejdříve implementujeme funkce pro dopřednou a zpětnou substituci, které později využijeme k řešení soustav.\n",
    "\n",
    "### Testovací matice\n",
    "\n",
    "Nejprve vygenerujte testovací matice, pomocí kterých později zjistíte, zda vaše funkce pracují správně. Budete k tomu potřebovat\n",
    "- funkci z knihovny NumPy, pomocí které vygenerujete náhodnou matici o daném rozměru (znáte z prvního cvičení),\n",
    "- funkce `triu`, `tril` z knihovny NumPy (zjistěte v dokumentaci nebo pomocí Googlu, k čemu slouží a jak se používají)"
   ]
  },
  {
   "cell_type": "code",
   "execution_count": 1,
   "metadata": {},
   "outputs": [],
   "source": [
    "# ÚKOL: importujte potřebnou knihovnu NumPy pod zkratkou np\n",
    "import numpy as np"
   ]
  },
  {
   "cell_type": "code",
   "execution_count": 2,
   "metadata": {},
   "outputs": [
    {
     "name": "stdout",
     "output_type": "stream",
     "text": [
      "[[0.958 0.453 0.89  0.109]\n",
      " [0.13  0.518 0.072 0.989]\n",
      " [0.775 0.92  0.076 0.501]\n",
      " [0.218 0.83  0.11  0.384]]\n"
     ]
    }
   ],
   "source": [
    "# ÚKOL: vygenerujte matici A náhodných čísel o rozměrech 4x4\n",
    "import numpy as np\n",
    "A = np.random.rand(4, 4)\n",
    "\n",
    "np.set_printoptions(precision=3) # pro lepší přehlednost\n",
    "print(A)"
   ]
  },
  {
   "cell_type": "code",
   "execution_count": 4,
   "metadata": {},
   "outputs": [
    {
     "name": "stdout",
     "output_type": "stream",
     "text": [
      "[[0.46188922 0.06251362 0.28800523 0.46838382]\n",
      " [0.         0.66780806 0.75705364 0.55610883]\n",
      " [0.         0.         0.91862866 0.4323584 ]\n",
      " [0.         0.         0.         0.3628432 ]]\n",
      "---------------------\n",
      "[[0.46188922 0.         0.         0.        ]\n",
      " [0.74307947 0.66780806 0.         0.        ]\n",
      " [0.80329913 0.25522678 0.91862866 0.        ]\n",
      " [0.87327359 0.3489865  0.79675207 0.3628432 ]]\n"
     ]
    }
   ],
   "source": [
    "# ÚKOL: pomocí vhodných funkcí z knihovny NumPy extrahujte z matice A její horní a dolní trojúhelníkovou část.\n",
    "import numpy as np\n",
    "A = np.random.rand(4, 4)\n",
    "U = np.triu(A)\n",
    "print(U)\n",
    "print(\"---------------------\")\n",
    "\n",
    "L = np.tril(A)\n",
    "print(L)\n",
    "\n",
    "# Ověřte funkčnost porovnáním s příslušnou částí matice A"
   ]
  },
  {
   "cell_type": "code",
   "execution_count": null,
   "metadata": {},
   "outputs": [],
   "source": [
    "# ÚKOL: Vytvořte náhodný vektor b délky 4\n",
    "import numpy as np\n",
    "b = np.random.rand(4)\n",
    "\n",
    "print(b)"
   ]
  },
  {
   "attachments": {},
   "cell_type": "markdown",
   "metadata": {},
   "source": [
    "### Dopředná substituce\n",
    "\n",
    "Soustavu s dolní trojúhelníkovou maticí $\\mathsf{L}\\mathbf{x}=\\mathbf{b}$ můžeme efektivně řešit pomocí algoritmu dopředné substituce. \n",
    "\n",
    "1) Určíme první prvek vektoru řešení\n",
    "$$x_1 = b_1 / L_{1, 1}$$\n",
    "\n",
    "2) Zbývající prvky určíme jako \n",
    "$$\\forall i \\in \\{2, 3, \\ldots, m\\}: x_i = (b_i - \\sum_{j=1}^{i-1}L_{i, j} x_j) / L_{i, i}$$\n",
    "\n",
    "Na základě těchto předpisů doplňte chybějící části následujícího kódu. Nezapomeňte ale, že v Pythonu indexujeme od nuly."
   ]
  },
  {
   "cell_type": "code",
   "execution_count": 15,
   "metadata": {},
   "outputs": [
    {
     "name": "stdout",
     "output_type": "stream",
     "text": [
      "[ 0.08626557  1.07020057 -1.00446215  0.87751975]\n"
     ]
    }
   ],
   "source": [
    "# ÚKOL: Doplňte následující kód\n",
    "import numpy as np\n",
    "\n",
    "def fsubst(L, b):\n",
    "    m, n = L.shape             # pomocí vhodné funkce numpy uložte do proměnných m, n počet řádků a sloupců L\n",
    "    x = np.zeros(n)                # vytvořte vektor samých nul délky n\n",
    "    \n",
    "    x[0] = b[0] / L[0, 0]   # první prvek řešení\n",
    "\n",
    "    for i in range(1, m):\n",
    "\n",
    "        # nejdříve pomocí vnořeného for cyklu určíme hodnotu sumy z kroku 2:\n",
    "        suma = 0\n",
    "        for j in range(0, i):                          # doplňte vhodně meze smyčky\n",
    "            suma += (L[i, j] * x[j])                     # doplňte\n",
    "        \n",
    "        # odečteme sumu od prvku pravé strany a vydělíme diagonálním prvkem\n",
    "        x[i] = (b[i] - suma)/L[i, i]                        # doplňte\n",
    "\n",
    "    return x\n",
    "\n",
    "A = np.random.rand(4, 4)\n",
    "U = np.triu(A)\n",
    "L = np.tril(A)\n",
    "b = np.random.rand(4)\n",
    "x = fsubst(L, b)\n",
    "print(x)"
   ]
  },
  {
   "cell_type": "code",
   "execution_count": 16,
   "metadata": {},
   "outputs": [
    {
     "name": "stdout",
     "output_type": "stream",
     "text": [
      "[ 0.08626557  1.07020057 -1.00446215  0.87751975]\n"
     ]
    }
   ],
   "source": [
    "# Otestujte pomocí L, b\n",
    "x = fsubst(L, b)\n",
    "print(x)"
   ]
  },
  {
   "cell_type": "code",
   "execution_count": 17,
   "metadata": {},
   "outputs": [
    {
     "name": "stdout",
     "output_type": "stream",
     "text": [
      "[ 0.08626557  1.07020057 -1.00446215  0.87751975]\n"
     ]
    }
   ],
   "source": [
    "# ÚKOL: určete řešení pomocí funkce solve z numpy a porovnejte s vašim řešením\n",
    "x_numpy = np.linalg.solve(L, b)\n",
    "print(x_numpy)"
   ]
  },
  {
   "attachments": {},
   "cell_type": "markdown",
   "metadata": {},
   "source": [
    "### Zpětná substituce\n",
    "\n",
    "K vyřešení soustavy s horní trojúhelníkovou maticí $\\mathsf{U}\\mathbf{x} = \\mathbf{b}$ potřebujeme implementovat také algoritmus zpětné substituce. Ten je podobný dopředné substituci, postupuje však od posledního řádku:\n",
    "\n",
    "1) Určíme poslední prvek vektoru řešení \n",
    "$$x_m = b_m / U_{m,m}$$\n",
    "2) Určíme zbývající prvky\n",
    "$$\\forall i \\in \\{m-1, m-2, \\ldots, 1\\}: x_i = (b_i - \\sum_{j=i+1}^{m}U_{i, j}x_j) / U_{i, i}$$\n",
    "\n",
    "Implementujte v následující buňce vaši verzi zpětné substituce."
   ]
  },
  {
   "attachments": {},
   "cell_type": "markdown",
   "metadata": {},
   "source": [
    "**Poznámka** Při implementaci se vám bude hodit vědět, že funkce range umožňuje iterovat i \"pozpátku\". Vyzkoušejte si v následující buňce vytisknout přes jaká *i* iterují tyto `for` cykly:\n",
    "- `for i in range(6, 0, -1)`\n",
    "- `for i in range(6, -1, -1)`\n",
    "- `for i in range(6, 0, -2)`\n",
    "- `for i in range(0, -6, -1)`"
   ]
  },
  {
   "cell_type": "code",
   "execution_count": 18,
   "metadata": {},
   "outputs": [
    {
     "name": "stdout",
     "output_type": "stream",
     "text": [
      "6\n",
      "5\n",
      "4\n",
      "3\n",
      "2\n",
      "1\n",
      "6\n",
      "5\n",
      "4\n",
      "3\n",
      "2\n",
      "1\n",
      "0\n",
      "6\n",
      "4\n",
      "2\n",
      "0\n",
      "-1\n",
      "-2\n",
      "-3\n",
      "-4\n",
      "-5\n"
     ]
    }
   ],
   "source": [
    "# ÚKOL: Vytiskněte proměnnou i z příkladů v předchozí buňce.\n",
    "for i in range(6, 0, -1):\n",
    "    print(i)\n",
    "for i in range(6, -1, -1):\n",
    "    print(i)\n",
    "for i in range(6, 0, -2):\n",
    "    print(i)\n",
    "for i in range(0, -6, -1):\n",
    "    print(i)\n"
   ]
  },
  {
   "cell_type": "code",
   "execution_count": 26,
   "metadata": {},
   "outputs": [],
   "source": [
    "# ÚKOL: Implementujte algoritmus zpětné substituce.\n",
    "import numpy as np\n",
    "\n",
    "def b_subst(U, b):\n",
    "    m, n = U.shape            \n",
    "    x = np.zeros(m)              \n",
    "    \n",
    "    x[n-1] = b[n-1] / U[n-1, n-1]\n",
    "\n",
    "    for i in range(n-2, -1, -1):\n",
    "        suma = 0\n",
    "        for j in range(i+1, n):\n",
    "            suma += U[i,j] * x[j]\n",
    "        \n",
    "        x[i] = (b[i] - suma)/U[i,i]\n",
    "    \n",
    "    return x\n",
    "    \n",
    "\n",
    "A = np.random.rand(4, 4)\n",
    "U = np.triu(A)\n",
    "L = np.tril(A)\n",
    "b = np.random.rand(4)"
   ]
  },
  {
   "cell_type": "code",
   "execution_count": 27,
   "metadata": {},
   "outputs": [
    {
     "name": "stdout",
     "output_type": "stream",
     "text": [
      "[ 3.86926863 -3.09153792 -1.28155527  4.13049394]\n",
      "[ 3.86926863 -3.09153792 -1.28155527  4.13049394]\n"
     ]
    }
   ],
   "source": [
    "# ÚKOL: ověřte pomocí numpy, že vaše funkce vrací správný výsledek\n",
    "\n",
    "x2 = b_subst(U, b)\n",
    "x2_numpy = np.linalg.solve(U, b)\n",
    "print(x2)\n",
    "print(x2_numpy)"
   ]
  },
  {
   "attachments": {},
   "cell_type": "markdown",
   "metadata": {},
   "source": [
    "# Domácí úkol č. 1\n",
    "\n",
    "Algoritmus LU rozkladu lze popsat např. následujícím pseudokódem.\n",
    "\n",
    "```\n",
    "U = A, L = I\n",
    "for k = 1 to m-1 do\n",
    "    for j = k+1 to m do\n",
    "        L(j, k) = U(j, k)/U(k, k)\n",
    "        U(j, k:m) = U(j, k:m) - L(j, k)U(k, k:m)\n",
    "    end for\n",
    "end for\n",
    "```\n",
    "\n",
    "**Pozor**: značení `k:m` zde znamená sloupce od `k` po `m` *včetně*.\n",
    "\n",
    "Vašim úkolem je:\n",
    "1) Na základě uvedeného pseudokódu implementovat LU rozklad bez pivotizace do metody `L, U = my_lu(A)`. Metoda tedy bude mít na vstupu čtvercovou matici A a na výstupu dolní trojúhelníkovou matici L a horní trojúhelníkovou matici U takové, že `A = LU`.\n",
    "2) Sestavit náhodnou matici A o rozměrech 5x5 a pomocí ní ověřit, že vaše metoda funguje správně (`A - L @ U` by mělo vrátit matici s nulovými či velmi malými prvky).\n",
    "3) Sestavit náhodný vektor pravé strany `b` o délce 5. \n",
    "4) Pomocí vaší metody `my_lu` a na cvičení implementovaných metod `f_subst` a `b_subst` vyřešit soustavu `Ax = b`.\n",
    "5) Ověřit pomocí metody `np.linalg.solve`, že jste nalezli správné řešení. \n",
    "\n",
    "**Odevzdání**: Celý tento notebook s řešením zašlete na e-mail vyučujícího do 23. 3. 16:00. Jako předmět e-mailu uveďte \"NLA1 DU1\"."
   ]
  },
  {
   "cell_type": "code",
   "execution_count": 1,
   "metadata": {},
   "outputs": [
    {
     "name": "stdout",
     "output_type": "stream",
     "text": [
      "[[0.20552485 0.38208745 0.09666294 0.61759545 0.01697467]\n",
      " [0.19143192 0.26080681 0.91420104 0.13930783 0.08225586]\n",
      " [0.01546235 0.64323327 0.97743673 0.37691735 0.04499574]\n",
      " [0.95146422 0.91292499 0.42645479 0.64279275 0.55470963]\n",
      " [0.58063737 0.74454274 0.1927075  0.10980207 0.98671518]]\n",
      "----------------------------------------------------------\n",
      "[[ 1.          0.          0.          0.          0.        ]\n",
      " [ 0.93142958  1.          0.          0.          0.        ]\n",
      " [ 0.07523347 -6.46279681  1.          0.          0.        ]\n",
      " [ 4.62943648  9.00208176 -1.18163322  1.          0.        ]\n",
      " [ 2.82514441  3.52236942 -0.47381208  1.03834318  1.        ]]\n",
      "----------------------------------------------------------\n",
      "[[ 0.20552485  0.38208745  0.09666294  0.61759545  0.01697467]\n",
      " [ 0.         -0.09508074  0.82416632 -0.43593884  0.06644515]\n",
      " [ 0.          0.          6.29658388 -2.48693065  0.47314017]\n",
      " [ 0.          0.          0.         -1.23060895  0.43705996]\n",
      " [ 0.          0.          0.          0.          0.47507623]]\n",
      "----------------------------------------------------------\n",
      "[ 0.15032995  1.13272331 -0.11518955  0.0415622  -0.67936366]\n",
      "----------------------------------------------------------\n",
      "[ 0.15032995  1.13272331 -0.11518955  0.0415622  -0.67936366]\n"
     ]
    }
   ],
   "source": [
    "# Doplňte podle bodu 1)\n",
    "import numpy as np\n",
    "\n",
    "def fsubst(L, b):\n",
    "    m, n = L.shape       \n",
    "    x = np.zeros(n)     \n",
    "    x[0] = b[0] / L[0, 0]\n",
    "\n",
    "    for i in range(1, m):\n",
    "        suma = 0\n",
    "        for j in range(0, i):                        \n",
    "            suma += (L[i, j] * x[j])                    \n",
    "        x[i] = (b[i] - suma)/L[i, i]             \n",
    "\n",
    "    return x\n",
    "\n",
    "def b_subst(U, b):\n",
    "    m, n = U.shape            \n",
    "    x = np.zeros(m)              \n",
    "    \n",
    "    x[n-1] = b[n-1] / U[n-1, n-1]\n",
    "\n",
    "    for i in range(n-2, -1, -1):\n",
    "        suma = 0\n",
    "        for j in range(i+1, n):\n",
    "            suma += U[i,j] * x[j]\n",
    "        \n",
    "        x[i] = (b[i] - suma)/U[i,i]\n",
    "    \n",
    "    return x\n",
    "\n",
    "def my_lu(A):\n",
    "    U = np.copy(A)\n",
    "    m, n = A.shape\n",
    "    L = np.eye(n)\n",
    "    for k in range(0, n-1):\n",
    "        for j in range(k+1, n):\n",
    "            L[j,k] = U[j,k]/U[k,k]\n",
    "            for i in range(k, n):\n",
    "                U[j,i] = U[j,i] - (L[j,k]*U[k,i])\n",
    "    list = (L, U)\n",
    "    return list\n",
    "    \n",
    "A = np.random.rand(5, 5)\n",
    "b = np.random.rand(5)\n",
    "L, U = my_lu(A)\n",
    "y = fsubst(L, b)\n",
    "x = b_subst(U, y)\n",
    "x3 = np.linalg.solve(A, b)\n",
    "print(A)\n",
    "print(\"----------------------------------------------------------\")\n",
    "print(L)\n",
    "print(\"----------------------------------------------------------\")\n",
    "print(U)\n",
    "print(\"----------------------------------------------------------\")\n",
    "print(x)\n",
    "print(\"----------------------------------------------------------\")\n",
    "print(x3)"
   ]
  },
  {
   "cell_type": "code",
   "execution_count": 2,
   "metadata": {},
   "outputs": [
    {
     "name": "stdout",
     "output_type": "stream",
     "text": [
      "[[ 0.00000000e+00  0.00000000e+00  0.00000000e+00  0.00000000e+00\n",
      "   0.00000000e+00]\n",
      " [ 0.00000000e+00  0.00000000e+00  0.00000000e+00  0.00000000e+00\n",
      "   0.00000000e+00]\n",
      " [ 0.00000000e+00  0.00000000e+00  3.33066907e-16 -1.11022302e-16\n",
      "   0.00000000e+00]\n",
      " [ 0.00000000e+00  0.00000000e+00 -3.33066907e-16  0.00000000e+00\n",
      "   0.00000000e+00]\n",
      " [ 0.00000000e+00  0.00000000e+00  1.11022302e-16  1.11022302e-16\n",
      "  -1.11022302e-16]]\n"
     ]
    }
   ],
   "source": [
    "# Doplňte podle bodu 2)\n",
    "print(A-(L @ U))"
   ]
  },
  {
   "cell_type": "code",
   "execution_count": null,
   "metadata": {},
   "outputs": [],
   "source": [
    "# Doplňte podle bodu 3)\n",
    "#viz 1)"
   ]
  },
  {
   "cell_type": "code",
   "execution_count": null,
   "metadata": {},
   "outputs": [],
   "source": [
    "# Doplňte podle bodu 4)\n",
    "\n",
    "#viz 1)"
   ]
  },
  {
   "cell_type": "code",
   "execution_count": 44,
   "metadata": {},
   "outputs": [
    {
     "name": "stdout",
     "output_type": "stream",
     "text": [
      "[ 0.72263408  0.03953983 -0.18897622 -0.54612439  1.51612269]\n"
     ]
    }
   ],
   "source": [
    "# Doplňte podle bodu 5)\n",
    "#viz 1)"
   ]
  }
 ],
 "metadata": {
  "kernelspec": {
   "display_name": "Python 3",
   "language": "python",
   "name": "python3"
  },
  "language_info": {
   "codemirror_mode": {
    "name": "ipython",
    "version": 3
   },
   "file_extension": ".py",
   "mimetype": "text/x-python",
   "name": "python",
   "nbconvert_exporter": "python",
   "pygments_lexer": "ipython3",
   "version": "3.10.6"
  },
  "orig_nbformat": 4,
  "vscode": {
   "interpreter": {
    "hash": "916dbcbb3f70747c44a77c7bcd40155683ae19c65e1c03b4aa3499c5328201f1"
   }
  }
 },
 "nbformat": 4,
 "nbformat_minor": 2
}
